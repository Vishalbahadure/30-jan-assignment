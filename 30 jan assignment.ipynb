{
 "cells": [
  {
   "cell_type": "code",
   "execution_count": 7,
   "id": "6f25e6c0-9172-4761-b7a1-45dee885382e",
   "metadata": {},
   "outputs": [
    {
     "name": "stdin",
     "output_type": "stream",
     "text": [
      "Enter the percentage 65\n"
     ]
    },
    {
     "name": "stdout",
     "output_type": "stream",
     "text": [
      "C\n"
     ]
    }
   ],
   "source": [
    "#Q1.write a program to accept the percentage form the user and display grade according to following criteri\n",
    "n=int(input(\"Enter the percentage\"))\n",
    "if n>90:\n",
    "    print(\"A\")\n",
    "elif n>80 and n<=90:\n",
    "    print(\"B\")\n",
    "elif n>60 and n<=80:\n",
    "    print(\"C\")\n",
    "else:\n",
    "    print(\"D\")"
   ]
  },
  {
   "cell_type": "code",
   "execution_count": 11,
   "id": "44cdf955-cf09-48f7-9b93-05c7cfb9e7ba",
   "metadata": {},
   "outputs": [
    {
     "name": "stdin",
     "output_type": "stream",
     "text": [
      "Enter the cost price of bike 800000\n"
     ]
    },
    {
     "name": "stdout",
     "output_type": "stream",
     "text": [
      "120000.0\n"
     ]
    }
   ],
   "source": [
    "#Q2.write a program to accept the cost price of bike and display road tax to be paid according following criteria\n",
    "price=float(input(\"Enter the cost price of bike\"))\n",
    "if price>100000:\n",
    "    print(price*0.15)\n",
    "elif price>50000 and price<=100000:\n",
    "    print(price*0.10)\n",
    "elif price<=50000:\n",
    "    print(price*0.05)\n",
    "else:\n",
    "    print(0)"
   ]
  },
  {
   "cell_type": "code",
   "execution_count": 15,
   "id": "35984ff2-6c4a-400d-bb39-d6db50021c82",
   "metadata": {},
   "outputs": [
    {
     "name": "stdin",
     "output_type": "stream",
     "text": [
      "Enter the city name jaipur\n"
     ]
    },
    {
     "name": "stdout",
     "output_type": "stream",
     "text": [
      "jal mahal\n"
     ]
    }
   ],
   "source": [
    "#Q3.write a program accept any city from user and display monuments  of city\n",
    "city =input(\"Enter the city name\")\n",
    "if city =='delhi':\n",
    "    print(\"red fort\")\n",
    "elif city=='agra':\n",
    "    print(\"taj mahal\")\n",
    "elif city=='jaipur':\n",
    "    print(\"jal mahal\")"
   ]
  },
  {
   "cell_type": "code",
   "execution_count": 19,
   "id": "ed48bfd8-40a7-4596-aba0-322b6a38c546",
   "metadata": {},
   "outputs": [
    {
     "name": "stdin",
     "output_type": "stream",
     "text": [
      "Enter a number:  2\n"
     ]
    },
    {
     "name": "stdout",
     "output_type": "stream",
     "text": [
      "The given number can be divided by 3 0 times before it becomes less than or equal to 10.\n"
     ]
    }
   ],
   "source": [
    "#Q4.check how many time a given number  can be divide by 3 before it less than or equal to 10\n",
    "\n",
    "number = int(input(\"Enter a number: \"))\n",
    "count = 0\n",
    "\n",
    "while number > 10:\n",
    "    number = number / 3\n",
    "    count += 1\n",
    "\n",
    "print(\"The given number can be divided by 3\", count, \"times before it becomes less than or equal to 10.\")\n"
   ]
  },
  {
   "cell_type": "code",
   "execution_count": 20,
   "id": "fcfb4868-881d-4059-af20-b5b2f30c2c32",
   "metadata": {},
   "outputs": [
    {
     "name": "stdout",
     "output_type": "stream",
     "text": [
      "Counter: 0\n",
      "Counter: 1\n",
      "Counter: 2\n",
      "Counter: 3\n",
      "Counter: 4\n"
     ]
    }
   ],
   "source": [
    "#Q5.why and when to use while loop in python give a detailed description with example\n",
    "counter = 0\n",
    "while counter < 5:\n",
    "    print(\"Counter:\", counter)\n",
    "    counter += 1\n"
   ]
  },
  {
   "cell_type": "code",
   "execution_count": 21,
   "id": "e170625c-ae4c-4dd3-a586-a7bd2f8de30b",
   "metadata": {},
   "outputs": [
    {
     "name": "stdout",
     "output_type": "stream",
     "text": [
      "1\n",
      "12\n",
      "123\n",
      "1234\n",
      "12345\n"
     ]
    }
   ],
   "source": [
    "#Q6.use nested while loop to print  3 different pattern\n",
    "row = 1\n",
    "while row <= 5:\n",
    "    col = 1\n",
    "    while col <= row:\n",
    "        print(col, end=\"\")\n",
    "        col += 1\n",
    "    print()\n",
    "    row += 1\n"
   ]
  },
  {
   "cell_type": "code",
   "execution_count": 22,
   "id": "ba72e8d1-6451-43e4-a7ce-82ce5b2b807a",
   "metadata": {},
   "outputs": [
    {
     "name": "stdout",
     "output_type": "stream",
     "text": [
      "55555\n",
      "4444\n",
      "333\n",
      "22\n",
      "1\n"
     ]
    }
   ],
   "source": [
    "row = 5\n",
    "while row >= 1:\n",
    "    col = 1\n",
    "    while col <= row:\n",
    "        print(row, end=\"\")\n",
    "        col += 1\n",
    "    print()\n",
    "    row -= 1\n"
   ]
  },
  {
   "cell_type": "code",
   "execution_count": 23,
   "id": "8263677d-e373-4e46-943f-fdb76108d33b",
   "metadata": {},
   "outputs": [
    {
     "name": "stdout",
     "output_type": "stream",
     "text": [
      "1\n",
      "23\n",
      "456\n",
      "78910\n"
     ]
    }
   ],
   "source": [
    "row = 1\n",
    "num = 1\n",
    "while row <= 4:\n",
    "    col = 1\n",
    "    while col <= row:\n",
    "        print(num, end=\"\")\n",
    "        num += 1\n",
    "        col += 1\n",
    "    print()\n",
    "    row += 1\n"
   ]
  },
  {
   "cell_type": "code",
   "execution_count": 24,
   "id": "d7711032-9976-4f0b-b063-ee49f55ee45c",
   "metadata": {},
   "outputs": [
    {
     "name": "stdout",
     "output_type": "stream",
     "text": [
      "10\n",
      "9\n",
      "8\n",
      "7\n",
      "6\n",
      "5\n",
      "4\n",
      "3\n",
      "2\n",
      "1\n"
     ]
    }
   ],
   "source": [
    "#Q7.reverse while loop to display 10to1\n",
    "number = 10\n",
    "\n",
    "while number >= 1:\n",
    "    print(number)\n",
    "    number -= 1\n"
   ]
  },
  {
   "cell_type": "code",
   "execution_count": null,
   "id": "cd394cae-fe42-4ebb-9891-dee226fcfa80",
   "metadata": {},
   "outputs": [],
   "source": []
  }
 ],
 "metadata": {
  "kernelspec": {
   "display_name": "Python 3 (ipykernel)",
   "language": "python",
   "name": "python3"
  },
  "language_info": {
   "codemirror_mode": {
    "name": "ipython",
    "version": 3
   },
   "file_extension": ".py",
   "mimetype": "text/x-python",
   "name": "python",
   "nbconvert_exporter": "python",
   "pygments_lexer": "ipython3",
   "version": "3.10.8"
  }
 },
 "nbformat": 4,
 "nbformat_minor": 5
}
